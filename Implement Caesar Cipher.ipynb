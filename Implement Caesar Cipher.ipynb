{
 "cells": [
  {
   "cell_type": "code",
   "execution_count": 11,
   "id": "e9374f90",
   "metadata": {},
   "outputs": [
    {
     "name": "stdout",
     "output_type": "stream",
     "text": [
      "Enter a text : KoushiK SM\n",
      "Enter the number : 3\n",
      "Encrypted_message: NrxvklN VP\n",
      "decrypted_message: KoushiK SM\n"
     ]
    }
   ],
   "source": [
    "def encrypt(text,shift):\n",
    "    encrypted_text=\"\"\n",
    "    \n",
    "    for char in text:\n",
    "        if char.isalpha():\n",
    "            shifted=ord(char)+shift\n",
    "            if char.islower():\n",
    "                if shifted > ord('z'):\n",
    "                    shifted-=26\n",
    "                elif shifted < ord('a'):\n",
    "                    shifted+=26\n",
    "            elif char.isupper():\n",
    "                if shifted > ord('Z'):\n",
    "                    shifted-=26\n",
    "                elif shifted < ord('A'):\n",
    "                    shifted +=26\n",
    "            encrypted_text+=chr(shifted)        \n",
    "        else:\n",
    "            encrypted_text+=char\n",
    "    return encrypted_text    \n",
    "        \n",
    "def decrypt(text,shift):\n",
    "    return encrypt(text,-shift)\n",
    "\n",
    "def main():\n",
    "    text=input(\"Enter a text : \")\n",
    "    shift=int(input(\"Enter the number : \"))\n",
    "    encrypted_message=encrypt(text,shift)\n",
    "    print(\"Encrypted_message:\",encrypted_message)\n",
    "    \n",
    "    decrypted_message=decrypt(encrypted_message,shift)\n",
    "    print(\"decrypted_message:\",decrypted_message)\n",
    "    \n",
    "if __name__==\"__main__\":\n",
    "    main()\n",
    "\n",
    "    \n",
    "    \n",
    "                "
   ]
  },
  {
   "cell_type": "code",
   "execution_count": null,
   "id": "d11b8fe7",
   "metadata": {},
   "outputs": [],
   "source": []
  }
 ],
 "metadata": {
  "kernelspec": {
   "display_name": "Python 3 (ipykernel)",
   "language": "python",
   "name": "python3"
  },
  "language_info": {
   "codemirror_mode": {
    "name": "ipython",
    "version": 3
   },
   "file_extension": ".py",
   "mimetype": "text/x-python",
   "name": "python",
   "nbconvert_exporter": "python",
   "pygments_lexer": "ipython3",
   "version": "3.11.4"
  }
 },
 "nbformat": 4,
 "nbformat_minor": 5
}
